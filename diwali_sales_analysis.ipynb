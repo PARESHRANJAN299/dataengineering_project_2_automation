{
 "cells": [
  {
   "cell_type": "code",
   "execution_count": 2,
   "id": "6180df67-0315-42ba-9117-328ad60b5d52",
   "metadata": {},
   "outputs": [],
   "source": [
    "input_file = r\"C:\\Users\\prout1\\Downloads\\Diwali Sales Data.csv\""
   ]
  },
  {
   "cell_type": "code",
   "execution_count": null,
   "id": "5038f837-b014-49f9-ac1f-020bec8d7cee",
   "metadata": {},
   "outputs": [],
   "source": []
  }
 ],
 "metadata": {
  "kernelspec": {
   "display_name": "Python 3 (ipykernel)",
   "language": "python",
   "name": "python3"
  },
  "language_info": {
   "codemirror_mode": {
    "name": "ipython",
    "version": 3
   },
   "file_extension": ".py",
   "mimetype": "text/x-python",
   "name": "python",
   "nbconvert_exporter": "python",
   "pygments_lexer": "ipython3",
   "version": "3.12.1"
  }
 },
 "nbformat": 4,
 "nbformat_minor": 5
}
